{
 "cells": [
  {
   "cell_type": "code",
   "execution_count": 2,
   "metadata": {},
   "outputs": [
    {
     "name": "stderr",
     "output_type": "stream",
     "text": [
      "/var/folders/6w/1sb0cm0d22v7v_d5ynm587200000gw/T/ipykernel_20176/3269669736.py:19: DeprecationWarning: Due to a bug, this method doesn't actually stream the response content, `.with_streaming_response.method()` should be used instead\n",
      "  response.stream_to_file(speech_file_path)\n"
     ]
    }
   ],
   "source": [
    "from openai import OpenAI\n",
    "from dotenv import load_dotenv\n",
    "import os\n",
    "from pathlib import Path\n",
    "\n",
    "load_dotenv()\n",
    "\n",
    "openai = OpenAI(\n",
    "    # os.getenv(\"OPENAI_API_KEY\")\n",
    "    )\n",
    "\n",
    "\n",
    "speech_file_path = \"/Users/paul.williamson/LangChainAgents/playbooks/speech.mp3\"\n",
    "response = openai.audio.speech.create(\n",
    "  model=\"tts-1\",\n",
    "  voice=\"alloy\",\n",
    "  input=\"The quick brown fox jumped over the lazy dog.\"\n",
    ")\n",
    "response.stream_to_file(speech_file_path)"
   ]
  },
  {
   "cell_type": "code",
   "execution_count": 2,
   "metadata": {},
   "outputs": [],
   "source": [
    "import pygame\n",
    "\n",
    "filename = \"/Users/paul.williamson/LangChainAgents/playbooks/speech.mp3\"\n",
    "pygame.mixer.init()\n",
    "pygame.mixer.music.load(filename)\n",
    "pygame.mixer.music.play()\n",
    "\n",
    "# Keep the program running to let the music play (remove this line if you have the rest of your program)\n",
    "while pygame.mixer.music.get_busy(): \n",
    "    pygame.time.Clock().tick(10)"
   ]
  }
 ],
 "metadata": {
  "kernelspec": {
   "display_name": "langchainagents",
   "language": "python",
   "name": "python3"
  },
  "language_info": {
   "codemirror_mode": {
    "name": "ipython",
    "version": 3
   },
   "file_extension": ".py",
   "mimetype": "text/x-python",
   "name": "python",
   "nbconvert_exporter": "python",
   "pygments_lexer": "ipython3",
   "version": "3.12.2"
  }
 },
 "nbformat": 4,
 "nbformat_minor": 2
}
