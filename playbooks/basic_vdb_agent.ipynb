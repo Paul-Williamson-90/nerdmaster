{
 "cells": [
  {
   "cell_type": "code",
   "execution_count": 1,
   "metadata": {},
   "outputs": [
    {
     "data": {
      "text/plain": [
       "True"
      ]
     },
     "execution_count": 1,
     "metadata": {},
     "output_type": "execute_result"
    }
   ],
   "source": [
    "import os\n",
    "from dotenv import load_dotenv\n",
    "from pathlib import Path\n",
    "\n",
    "load_dotenv()"
   ]
  },
  {
   "cell_type": "code",
   "execution_count": 12,
   "metadata": {},
   "outputs": [
    {
     "name": "stderr",
     "output_type": "stream",
     "text": [
      "100%|██████████| 1000/1000 [03:34<00:00,  4.67it/s]"
     ]
    },
    {
     "name": "stdout",
     "output_type": "stream",
     "text": [
      "Scraping complete.\n",
      "Number of urls visited: 1000\n",
      "Number of bad urls: 0\n"
     ]
    },
    {
     "name": "stderr",
     "output_type": "stream",
     "text": [
      "\n"
     ]
    }
   ],
   "source": [
    "import sys\n",
    "sys.path.append(os.path.join(os.getcwd(), \"../\"))\n",
    "from src.webscrapers import BasicScraper\n",
    "\n",
    "scraper = BasicScraper(\n",
    "    root_page=\"https://api.python.langchain.com/en/latest/langchain_api_reference.html\",\n",
    "    parent_root=\"https://api.python.langchain.com/en/latest/\",\n",
    "    documentation_save_path=Path(\"./scraped_documentation\"),\n",
    "    wait_time_max=0,\n",
    "    maximum_pages=1000,\n",
    ")\n",
    "scraper.scrape()"
   ]
  },
  {
   "cell_type": "code",
   "execution_count": 13,
   "metadata": {},
   "outputs": [],
   "source": [
    "from langchain_community.document_loaders.text import TextLoader\n",
    "\n",
    "directory = Path(\"./scraped_documentation\")\n",
    "files = os.listdir(directory)\n",
    "\n",
    "documents = []\n",
    "for file in files:\n",
    "    joined_path = os.path.join(directory, file)\n",
    "    loader = TextLoader(joined_path)\n",
    "    documents += loader.load()"
   ]
  },
  {
   "cell_type": "code",
   "execution_count": 14,
   "metadata": {},
   "outputs": [],
   "source": [
    "from langchain_text_splitters import TokenTextSplitter\n",
    "\n",
    "text_splitter = TokenTextSplitter(\n",
    "    model_name=\"gpt-3.5-turbo\",\n",
    "    chunk_overlap=500,\n",
    "    chunk_size=2000,\n",
    ")\n",
    "\n",
    "texts = text_splitter.split_documents(documents)"
   ]
  },
  {
   "cell_type": "code",
   "execution_count": 15,
   "metadata": {},
   "outputs": [],
   "source": [
    "from langchain_community.vectorstores.faiss import FAISS\n",
    "from langchain_openai import OpenAIEmbeddings\n",
    "\n",
    "embeddings = OpenAIEmbeddings(api_key=os.getenv(\"OPENAI_API_KEY\"))\n",
    "db = FAISS.from_documents(texts, embeddings)"
   ]
  },
  {
   "cell_type": "code",
   "execution_count": 16,
   "metadata": {},
   "outputs": [],
   "source": [
    "retriever = db.as_retriever()"
   ]
  },
  {
   "cell_type": "code",
   "execution_count": 65,
   "metadata": {},
   "outputs": [],
   "source": [
    "from langchain.tools.retriever import create_retriever_tool\n",
    "\n",
    "tool = create_retriever_tool(\n",
    "    retriever,\n",
    "    \"search_langchain_documentation\",\n",
    "    \"Searches and returns excerpts from LangChain's public API documentation.\",\n",
    ")\n",
    "tools = [tool]"
   ]
  },
  {
   "cell_type": "code",
   "execution_count": 66,
   "metadata": {},
   "outputs": [
    {
     "data": {
      "text/plain": [
       "[SystemMessagePromptTemplate(prompt=PromptTemplate(input_variables=[], template='You are a helpful assistant')),\n",
       " MessagesPlaceholder(variable_name='chat_history', optional=True),\n",
       " HumanMessagePromptTemplate(prompt=PromptTemplate(input_variables=['input'], template='{input}')),\n",
       " MessagesPlaceholder(variable_name='agent_scratchpad')]"
      ]
     },
     "execution_count": 66,
     "metadata": {},
     "output_type": "execute_result"
    }
   ],
   "source": [
    "from langchain import hub\n",
    "\n",
    "prompt = hub.pull(\"hwchase17/openai-tools-agent\")\n",
    "prompt.messages"
   ]
  },
  {
   "cell_type": "code",
   "execution_count": 318,
   "metadata": {},
   "outputs": [
    {
     "name": "stderr",
     "output_type": "stream",
     "text": [
      "/Users/paul.williamson/LangChainAgents/langchainagents/lib/python3.12/site-packages/langchain_core/_api/deprecation.py:117: LangChainDeprecationWarning: The function `__call__` was deprecated in LangChain 0.1.7 and will be removed in 0.2.0. Use invoke instead.\n",
      "  warn_deprecated(\n"
     ]
    },
    {
     "ename": "AttributeError",
     "evalue": "'str' object has no attribute 'content'",
     "output_type": "error",
     "traceback": [
      "\u001b[0;31m---------------------------------------------------------------------------\u001b[0m",
      "\u001b[0;31mAttributeError\u001b[0m                            Traceback (most recent call last)",
      "Cell \u001b[0;32mIn[318], line 9\u001b[0m\n\u001b[1;32m      1\u001b[0m \u001b[38;5;28;01mfrom\u001b[39;00m \u001b[38;5;21;01mlangchain_openai\u001b[39;00m \u001b[38;5;28;01mimport\u001b[39;00m ChatOpenAI\n\u001b[1;32m      3\u001b[0m llm \u001b[38;5;241m=\u001b[39m ChatOpenAI(\n\u001b[1;32m      4\u001b[0m     temperature\u001b[38;5;241m=\u001b[39m\u001b[38;5;241m0\u001b[39m,\n\u001b[1;32m      5\u001b[0m     api_key\u001b[38;5;241m=\u001b[39mos\u001b[38;5;241m.\u001b[39menviron\u001b[38;5;241m.\u001b[39mget(\u001b[38;5;124m\"\u001b[39m\u001b[38;5;124mOPENAI_API_KEY\u001b[39m\u001b[38;5;124m\"\u001b[39m),\n\u001b[1;32m      6\u001b[0m     model_name\u001b[38;5;241m=\u001b[39m\u001b[38;5;124m\"\u001b[39m\u001b[38;5;124mgpt-3.5-turbo\u001b[39m\u001b[38;5;124m\"\u001b[39m,\n\u001b[1;32m      7\u001b[0m )\n\u001b[0;32m----> 9\u001b[0m \u001b[43mllm\u001b[49m\u001b[43m(\u001b[49m\u001b[38;5;124;43m\"\u001b[39;49m\u001b[38;5;124;43mHello Chat GPT\u001b[39;49m\u001b[38;5;124;43m\"\u001b[39;49m\u001b[43m)\u001b[49m\n",
      "File \u001b[0;32m~/LangChainAgents/langchainagents/lib/python3.12/site-packages/langchain_core/_api/deprecation.py:145\u001b[0m, in \u001b[0;36mdeprecated.<locals>.deprecate.<locals>.warning_emitting_wrapper\u001b[0;34m(*args, **kwargs)\u001b[0m\n\u001b[1;32m    143\u001b[0m     warned \u001b[38;5;241m=\u001b[39m \u001b[38;5;28;01mTrue\u001b[39;00m\n\u001b[1;32m    144\u001b[0m     emit_warning()\n\u001b[0;32m--> 145\u001b[0m \u001b[38;5;28;01mreturn\u001b[39;00m \u001b[43mwrapped\u001b[49m\u001b[43m(\u001b[49m\u001b[38;5;241;43m*\u001b[39;49m\u001b[43margs\u001b[49m\u001b[43m,\u001b[49m\u001b[43m \u001b[49m\u001b[38;5;241;43m*\u001b[39;49m\u001b[38;5;241;43m*\u001b[39;49m\u001b[43mkwargs\u001b[49m\u001b[43m)\u001b[49m\n",
      "File \u001b[0;32m~/LangChainAgents/langchainagents/lib/python3.12/site-packages/langchain_core/language_models/chat_models.py:729\u001b[0m, in \u001b[0;36mBaseChatModel.__call__\u001b[0;34m(self, messages, stop, callbacks, **kwargs)\u001b[0m\n\u001b[1;32m    721\u001b[0m \u001b[38;5;129m@deprecated\u001b[39m(\u001b[38;5;124m\"\u001b[39m\u001b[38;5;124m0.1.7\u001b[39m\u001b[38;5;124m\"\u001b[39m, alternative\u001b[38;5;241m=\u001b[39m\u001b[38;5;124m\"\u001b[39m\u001b[38;5;124minvoke\u001b[39m\u001b[38;5;124m\"\u001b[39m, removal\u001b[38;5;241m=\u001b[39m\u001b[38;5;124m\"\u001b[39m\u001b[38;5;124m0.2.0\u001b[39m\u001b[38;5;124m\"\u001b[39m)\n\u001b[1;32m    722\u001b[0m \u001b[38;5;28;01mdef\u001b[39;00m \u001b[38;5;21m__call__\u001b[39m(\n\u001b[1;32m    723\u001b[0m     \u001b[38;5;28mself\u001b[39m,\n\u001b[0;32m   (...)\u001b[0m\n\u001b[1;32m    727\u001b[0m     \u001b[38;5;241m*\u001b[39m\u001b[38;5;241m*\u001b[39mkwargs: Any,\n\u001b[1;32m    728\u001b[0m ) \u001b[38;5;241m-\u001b[39m\u001b[38;5;241m>\u001b[39m BaseMessage:\n\u001b[0;32m--> 729\u001b[0m     generation \u001b[38;5;241m=\u001b[39m \u001b[38;5;28;43mself\u001b[39;49m\u001b[38;5;241;43m.\u001b[39;49m\u001b[43mgenerate\u001b[49m\u001b[43m(\u001b[49m\n\u001b[1;32m    730\u001b[0m \u001b[43m        \u001b[49m\u001b[43m[\u001b[49m\u001b[43mmessages\u001b[49m\u001b[43m]\u001b[49m\u001b[43m,\u001b[49m\u001b[43m \u001b[49m\u001b[43mstop\u001b[49m\u001b[38;5;241;43m=\u001b[39;49m\u001b[43mstop\u001b[49m\u001b[43m,\u001b[49m\u001b[43m \u001b[49m\u001b[43mcallbacks\u001b[49m\u001b[38;5;241;43m=\u001b[39;49m\u001b[43mcallbacks\u001b[49m\u001b[43m,\u001b[49m\u001b[43m \u001b[49m\u001b[38;5;241;43m*\u001b[39;49m\u001b[38;5;241;43m*\u001b[39;49m\u001b[43mkwargs\u001b[49m\n\u001b[1;32m    731\u001b[0m \u001b[43m    \u001b[49m\u001b[43m)\u001b[49m\u001b[38;5;241m.\u001b[39mgenerations[\u001b[38;5;241m0\u001b[39m][\u001b[38;5;241m0\u001b[39m]\n\u001b[1;32m    732\u001b[0m     \u001b[38;5;28;01mif\u001b[39;00m \u001b[38;5;28misinstance\u001b[39m(generation, ChatGeneration):\n\u001b[1;32m    733\u001b[0m         \u001b[38;5;28;01mreturn\u001b[39;00m generation\u001b[38;5;241m.\u001b[39mmessage\n",
      "File \u001b[0;32m~/LangChainAgents/langchainagents/lib/python3.12/site-packages/langchain_core/language_models/chat_models.py:407\u001b[0m, in \u001b[0;36mBaseChatModel.generate\u001b[0;34m(self, messages, stop, callbacks, tags, metadata, run_name, run_id, **kwargs)\u001b[0m\n\u001b[1;32m    405\u001b[0m         \u001b[38;5;28;01mif\u001b[39;00m run_managers:\n\u001b[1;32m    406\u001b[0m             run_managers[i]\u001b[38;5;241m.\u001b[39mon_llm_error(e, response\u001b[38;5;241m=\u001b[39mLLMResult(generations\u001b[38;5;241m=\u001b[39m[]))\n\u001b[0;32m--> 407\u001b[0m         \u001b[38;5;28;01mraise\u001b[39;00m e\n\u001b[1;32m    408\u001b[0m flattened_outputs \u001b[38;5;241m=\u001b[39m [\n\u001b[1;32m    409\u001b[0m     LLMResult(generations\u001b[38;5;241m=\u001b[39m[res\u001b[38;5;241m.\u001b[39mgenerations], llm_output\u001b[38;5;241m=\u001b[39mres\u001b[38;5;241m.\u001b[39mllm_output)  \u001b[38;5;66;03m# type: ignore[list-item]\u001b[39;00m\n\u001b[1;32m    410\u001b[0m     \u001b[38;5;28;01mfor\u001b[39;00m res \u001b[38;5;129;01min\u001b[39;00m results\n\u001b[1;32m    411\u001b[0m ]\n\u001b[1;32m    412\u001b[0m llm_output \u001b[38;5;241m=\u001b[39m \u001b[38;5;28mself\u001b[39m\u001b[38;5;241m.\u001b[39m_combine_llm_outputs([res\u001b[38;5;241m.\u001b[39mllm_output \u001b[38;5;28;01mfor\u001b[39;00m res \u001b[38;5;129;01min\u001b[39;00m results])\n",
      "File \u001b[0;32m~/LangChainAgents/langchainagents/lib/python3.12/site-packages/langchain_core/language_models/chat_models.py:397\u001b[0m, in \u001b[0;36mBaseChatModel.generate\u001b[0;34m(self, messages, stop, callbacks, tags, metadata, run_name, run_id, **kwargs)\u001b[0m\n\u001b[1;32m    394\u001b[0m \u001b[38;5;28;01mfor\u001b[39;00m i, m \u001b[38;5;129;01min\u001b[39;00m \u001b[38;5;28menumerate\u001b[39m(messages):\n\u001b[1;32m    395\u001b[0m     \u001b[38;5;28;01mtry\u001b[39;00m:\n\u001b[1;32m    396\u001b[0m         results\u001b[38;5;241m.\u001b[39mappend(\n\u001b[0;32m--> 397\u001b[0m             \u001b[38;5;28;43mself\u001b[39;49m\u001b[38;5;241;43m.\u001b[39;49m\u001b[43m_generate_with_cache\u001b[49m\u001b[43m(\u001b[49m\n\u001b[1;32m    398\u001b[0m \u001b[43m                \u001b[49m\u001b[43mm\u001b[49m\u001b[43m,\u001b[49m\n\u001b[1;32m    399\u001b[0m \u001b[43m                \u001b[49m\u001b[43mstop\u001b[49m\u001b[38;5;241;43m=\u001b[39;49m\u001b[43mstop\u001b[49m\u001b[43m,\u001b[49m\n\u001b[1;32m    400\u001b[0m \u001b[43m                \u001b[49m\u001b[43mrun_manager\u001b[49m\u001b[38;5;241;43m=\u001b[39;49m\u001b[43mrun_managers\u001b[49m\u001b[43m[\u001b[49m\u001b[43mi\u001b[49m\u001b[43m]\u001b[49m\u001b[43m \u001b[49m\u001b[38;5;28;43;01mif\u001b[39;49;00m\u001b[43m \u001b[49m\u001b[43mrun_managers\u001b[49m\u001b[43m \u001b[49m\u001b[38;5;28;43;01melse\u001b[39;49;00m\u001b[43m \u001b[49m\u001b[38;5;28;43;01mNone\u001b[39;49;00m\u001b[43m,\u001b[49m\n\u001b[1;32m    401\u001b[0m \u001b[43m                \u001b[49m\u001b[38;5;241;43m*\u001b[39;49m\u001b[38;5;241;43m*\u001b[39;49m\u001b[43mkwargs\u001b[49m\u001b[43m,\u001b[49m\n\u001b[1;32m    402\u001b[0m \u001b[43m            \u001b[49m\u001b[43m)\u001b[49m\n\u001b[1;32m    403\u001b[0m         )\n\u001b[1;32m    404\u001b[0m     \u001b[38;5;28;01mexcept\u001b[39;00m \u001b[38;5;167;01mBaseException\u001b[39;00m \u001b[38;5;28;01mas\u001b[39;00m e:\n\u001b[1;32m    405\u001b[0m         \u001b[38;5;28;01mif\u001b[39;00m run_managers:\n",
      "File \u001b[0;32m~/LangChainAgents/langchainagents/lib/python3.12/site-packages/langchain_core/language_models/chat_models.py:589\u001b[0m, in \u001b[0;36mBaseChatModel._generate_with_cache\u001b[0;34m(self, messages, stop, run_manager, **kwargs)\u001b[0m\n\u001b[1;32m    585\u001b[0m         \u001b[38;5;28;01mraise\u001b[39;00m \u001b[38;5;167;01mValueError\u001b[39;00m(\n\u001b[1;32m    586\u001b[0m             \u001b[38;5;124m\"\u001b[39m\u001b[38;5;124mAsked to cache, but no cache found at `langchain.cache`.\u001b[39m\u001b[38;5;124m\"\u001b[39m\n\u001b[1;32m    587\u001b[0m         )\n\u001b[1;32m    588\u001b[0m \u001b[38;5;28;01mif\u001b[39;00m inspect\u001b[38;5;241m.\u001b[39msignature(\u001b[38;5;28mself\u001b[39m\u001b[38;5;241m.\u001b[39m_generate)\u001b[38;5;241m.\u001b[39mparameters\u001b[38;5;241m.\u001b[39mget(\u001b[38;5;124m\"\u001b[39m\u001b[38;5;124mrun_manager\u001b[39m\u001b[38;5;124m\"\u001b[39m):\n\u001b[0;32m--> 589\u001b[0m     result \u001b[38;5;241m=\u001b[39m \u001b[38;5;28;43mself\u001b[39;49m\u001b[38;5;241;43m.\u001b[39;49m\u001b[43m_generate\u001b[49m\u001b[43m(\u001b[49m\n\u001b[1;32m    590\u001b[0m \u001b[43m        \u001b[49m\u001b[43mmessages\u001b[49m\u001b[43m,\u001b[49m\u001b[43m \u001b[49m\u001b[43mstop\u001b[49m\u001b[38;5;241;43m=\u001b[39;49m\u001b[43mstop\u001b[49m\u001b[43m,\u001b[49m\u001b[43m \u001b[49m\u001b[43mrun_manager\u001b[49m\u001b[38;5;241;43m=\u001b[39;49m\u001b[43mrun_manager\u001b[49m\u001b[43m,\u001b[49m\u001b[43m \u001b[49m\u001b[38;5;241;43m*\u001b[39;49m\u001b[38;5;241;43m*\u001b[39;49m\u001b[43mkwargs\u001b[49m\n\u001b[1;32m    591\u001b[0m \u001b[43m    \u001b[49m\u001b[43m)\u001b[49m\n\u001b[1;32m    592\u001b[0m \u001b[38;5;28;01melse\u001b[39;00m:\n\u001b[1;32m    593\u001b[0m     result \u001b[38;5;241m=\u001b[39m \u001b[38;5;28mself\u001b[39m\u001b[38;5;241m.\u001b[39m_generate(messages, stop\u001b[38;5;241m=\u001b[39mstop, \u001b[38;5;241m*\u001b[39m\u001b[38;5;241m*\u001b[39mkwargs)\n",
      "File \u001b[0;32m~/LangChainAgents/langchainagents/lib/python3.12/site-packages/langchain_openai/chat_models/base.py:478\u001b[0m, in \u001b[0;36mChatOpenAI._generate\u001b[0;34m(self, messages, stop, run_manager, stream, **kwargs)\u001b[0m\n\u001b[1;32m    474\u001b[0m     stream_iter \u001b[38;5;241m=\u001b[39m \u001b[38;5;28mself\u001b[39m\u001b[38;5;241m.\u001b[39m_stream(\n\u001b[1;32m    475\u001b[0m         messages, stop\u001b[38;5;241m=\u001b[39mstop, run_manager\u001b[38;5;241m=\u001b[39mrun_manager, \u001b[38;5;241m*\u001b[39m\u001b[38;5;241m*\u001b[39mkwargs\n\u001b[1;32m    476\u001b[0m     )\n\u001b[1;32m    477\u001b[0m     \u001b[38;5;28;01mreturn\u001b[39;00m generate_from_stream(stream_iter)\n\u001b[0;32m--> 478\u001b[0m message_dicts, params \u001b[38;5;241m=\u001b[39m \u001b[38;5;28;43mself\u001b[39;49m\u001b[38;5;241;43m.\u001b[39;49m\u001b[43m_create_message_dicts\u001b[49m\u001b[43m(\u001b[49m\u001b[43mmessages\u001b[49m\u001b[43m,\u001b[49m\u001b[43m \u001b[49m\u001b[43mstop\u001b[49m\u001b[43m)\u001b[49m\n\u001b[1;32m    479\u001b[0m params \u001b[38;5;241m=\u001b[39m {\n\u001b[1;32m    480\u001b[0m     \u001b[38;5;241m*\u001b[39m\u001b[38;5;241m*\u001b[39mparams,\n\u001b[1;32m    481\u001b[0m     \u001b[38;5;241m*\u001b[39m\u001b[38;5;241m*\u001b[39m({\u001b[38;5;124m\"\u001b[39m\u001b[38;5;124mstream\u001b[39m\u001b[38;5;124m\"\u001b[39m: stream} \u001b[38;5;28;01mif\u001b[39;00m stream \u001b[38;5;129;01mis\u001b[39;00m \u001b[38;5;129;01mnot\u001b[39;00m \u001b[38;5;28;01mNone\u001b[39;00m \u001b[38;5;28;01melse\u001b[39;00m {}),\n\u001b[1;32m    482\u001b[0m     \u001b[38;5;241m*\u001b[39m\u001b[38;5;241m*\u001b[39mkwargs,\n\u001b[1;32m    483\u001b[0m }\n\u001b[1;32m    484\u001b[0m response \u001b[38;5;241m=\u001b[39m \u001b[38;5;28mself\u001b[39m\u001b[38;5;241m.\u001b[39mclient\u001b[38;5;241m.\u001b[39mcreate(messages\u001b[38;5;241m=\u001b[39mmessage_dicts, \u001b[38;5;241m*\u001b[39m\u001b[38;5;241m*\u001b[39mparams)\n",
      "File \u001b[0;32m~/LangChainAgents/langchainagents/lib/python3.12/site-packages/langchain_openai/chat_models/base.py:495\u001b[0m, in \u001b[0;36mChatOpenAI._create_message_dicts\u001b[0;34m(self, messages, stop)\u001b[0m\n\u001b[1;32m    493\u001b[0m         \u001b[38;5;28;01mraise\u001b[39;00m \u001b[38;5;167;01mValueError\u001b[39;00m(\u001b[38;5;124m\"\u001b[39m\u001b[38;5;124m`stop` found in both the input and default params.\u001b[39m\u001b[38;5;124m\"\u001b[39m)\n\u001b[1;32m    494\u001b[0m     params[\u001b[38;5;124m\"\u001b[39m\u001b[38;5;124mstop\u001b[39m\u001b[38;5;124m\"\u001b[39m] \u001b[38;5;241m=\u001b[39m stop\n\u001b[0;32m--> 495\u001b[0m message_dicts \u001b[38;5;241m=\u001b[39m [\u001b[43m_convert_message_to_dict\u001b[49m\u001b[43m(\u001b[49m\u001b[43mm\u001b[49m\u001b[43m)\u001b[49m \u001b[38;5;28;01mfor\u001b[39;00m m \u001b[38;5;129;01min\u001b[39;00m messages]\n\u001b[1;32m    496\u001b[0m \u001b[38;5;28;01mreturn\u001b[39;00m message_dicts, params\n",
      "File \u001b[0;32m~/LangChainAgents/langchainagents/lib/python3.12/site-packages/langchain_openai/chat_models/base.py:142\u001b[0m, in \u001b[0;36m_convert_message_to_dict\u001b[0;34m(message)\u001b[0m\n\u001b[1;32m    132\u001b[0m \u001b[38;5;28;01mdef\u001b[39;00m \u001b[38;5;21m_convert_message_to_dict\u001b[39m(message: BaseMessage) \u001b[38;5;241m-\u001b[39m\u001b[38;5;241m>\u001b[39m \u001b[38;5;28mdict\u001b[39m:\n\u001b[1;32m    133\u001b[0m \u001b[38;5;250m    \u001b[39m\u001b[38;5;124;03m\"\"\"Convert a LangChain message to a dictionary.\u001b[39;00m\n\u001b[1;32m    134\u001b[0m \n\u001b[1;32m    135\u001b[0m \u001b[38;5;124;03m    Args:\u001b[39;00m\n\u001b[0;32m   (...)\u001b[0m\n\u001b[1;32m    139\u001b[0m \u001b[38;5;124;03m        The dictionary.\u001b[39;00m\n\u001b[1;32m    140\u001b[0m \u001b[38;5;124;03m    \"\"\"\u001b[39;00m\n\u001b[1;32m    141\u001b[0m     message_dict: Dict[\u001b[38;5;28mstr\u001b[39m, Any] \u001b[38;5;241m=\u001b[39m {\n\u001b[0;32m--> 142\u001b[0m         \u001b[38;5;124m\"\u001b[39m\u001b[38;5;124mcontent\u001b[39m\u001b[38;5;124m\"\u001b[39m: \u001b[43mmessage\u001b[49m\u001b[38;5;241;43m.\u001b[39;49m\u001b[43mcontent\u001b[49m,\n\u001b[1;32m    143\u001b[0m     }\n\u001b[1;32m    144\u001b[0m     \u001b[38;5;28;01mif\u001b[39;00m (name \u001b[38;5;241m:=\u001b[39m message\u001b[38;5;241m.\u001b[39mname \u001b[38;5;129;01mor\u001b[39;00m message\u001b[38;5;241m.\u001b[39madditional_kwargs\u001b[38;5;241m.\u001b[39mget(\u001b[38;5;124m\"\u001b[39m\u001b[38;5;124mname\u001b[39m\u001b[38;5;124m\"\u001b[39m)) \u001b[38;5;129;01mis\u001b[39;00m \u001b[38;5;129;01mnot\u001b[39;00m \u001b[38;5;28;01mNone\u001b[39;00m:\n\u001b[1;32m    145\u001b[0m         message_dict[\u001b[38;5;124m\"\u001b[39m\u001b[38;5;124mname\u001b[39m\u001b[38;5;124m\"\u001b[39m] \u001b[38;5;241m=\u001b[39m name\n",
      "\u001b[0;31mAttributeError\u001b[0m: 'str' object has no attribute 'content'"
     ]
    }
   ],
   "source": [
    "from langchain_openai import ChatOpenAI\n",
    "\n",
    "llm = ChatOpenAI(\n",
    "    temperature=0,\n",
    "    api_key=os.environ.get(\"OPENAI_API_KEY\"),\n",
    "    model_name=\"gpt-3.5-turbo\",\n",
    ")"
   ]
  },
  {
   "cell_type": "code",
   "execution_count": 68,
   "metadata": {},
   "outputs": [],
   "source": [
    "from langchain.agents import AgentExecutor, create_openai_tools_agent\n",
    "\n",
    "agent = create_openai_tools_agent(llm, tools, prompt)\n",
    "agent_executor = AgentExecutor(agent=agent, tools=tools)"
   ]
  },
  {
   "cell_type": "code",
   "execution_count": 69,
   "metadata": {},
   "outputs": [
    {
     "data": {
      "text/plain": [
       "{'input': 'hi, im bob', 'output': 'Hello Bob! How can I assist you today?'}"
      ]
     },
     "execution_count": 69,
     "metadata": {},
     "output_type": "execute_result"
    }
   ],
   "source": [
    "result = agent_executor.invoke(\n",
    "    {\"input\": \"hi, im bob\"}\n",
    ")\n",
    "result"
   ]
  },
  {
   "cell_type": "code",
   "execution_count": 70,
   "metadata": {},
   "outputs": [
    {
     "data": {
      "text/plain": [
       "{'input': 'What can you tell me about LangChain Agents?',\n",
       " 'output': \"LangChain Agents are classes that use a language model to choose a sequence of actions to take. In Agents, a language model is used as a reasoning engine to determine which actions to take and in which order. Agents select and use Tools and Toolkits for actions. There are different classes and functions related to LangChain Agents, such as BaseSingleActionAgent, LLMSingleActionAgent, OpenAIFunctionsAgent, XMLAgent, Agent, ZeroShotAgent, ChatAgent, and more. These classes and functions help in implementing agents that can interact with language models and perform various actions based on the model's output.\"}"
      ]
     },
     "execution_count": 70,
     "metadata": {},
     "output_type": "execute_result"
    }
   ],
   "source": [
    "result = agent_executor.invoke(\n",
    "    {\"input\": \"What can you tell me about LangChain Agents?\"}\n",
    ")\n",
    "result"
   ]
  },
  {
   "cell_type": "code",
   "execution_count": 72,
   "metadata": {},
   "outputs": [
    {
     "data": {
      "text/plain": [
       "{'input': 'Hello, my name is Bob!',\n",
       " 'chat_history': [''],\n",
       " 'output': 'Hello Bob! How can I assist you today?'}"
      ]
     },
     "execution_count": 72,
     "metadata": {},
     "output_type": "execute_result"
    }
   ],
   "source": [
    "agent_executor.invoke(\n",
    "    {\n",
    "        \"input\":\"Hello, my name is Bob!\",\n",
    "        \"chat_history\":[\"\"]\n",
    "    }\n",
    ")"
   ]
  },
  {
   "cell_type": "code",
   "execution_count": 73,
   "metadata": {},
   "outputs": [
    {
     "data": {
      "text/plain": [
       "{'input': 'Do you remember my name?',\n",
       " 'chat_history': ['Human: Hello, my name is Bob!\\nAI:Hello Bob! How can I assist you today?'],\n",
       " 'output': 'Yes, your name is Bob. How can I assist you today, Bob?'}"
      ]
     },
     "execution_count": 73,
     "metadata": {},
     "output_type": "execute_result"
    }
   ],
   "source": [
    "agent_executor.invoke(\n",
    "    {\n",
    "        \"input\":\"Do you remember my name?\",\n",
    "        \"chat_history\":[\"Human: Hello, my name is Bob!\\nAI:Hello Bob! How can I assist you today?\"]\n",
    "    }\n",
    ")"
   ]
  },
  {
   "cell_type": "code",
   "execution_count": 78,
   "metadata": {},
   "outputs": [],
   "source": [
    "class ConversationAgent:\n",
    "\n",
    "    def __init__(self, \n",
    "                 agent:AgentExecutor,\n",
    "                 ):\n",
    "        self.agent = agent\n",
    "        self.history = []\n",
    "    \n",
    "    def _get_history(self):\n",
    "        return self.history\n",
    "\n",
    "    def invoke(self, user_input:str):\n",
    "        assert isinstance(user_input, str), \"user_input must be a string\"\n",
    "        assert len(user_input) > 0, \"user_input must not be empty\"\n",
    "        history = self._get_history()\n",
    "        response = self.agent.invoke(\n",
    "            {\n",
    "                \"input\": user_input,\n",
    "                \"chat_history\": history\n",
    "            }\n",
    "        )\n",
    "        self.history += [f\"Human: {user_input}\\nAI: {response['output']}\\n\"]\n",
    "        print(response[\"output\"])"
   ]
  },
  {
   "cell_type": "code",
   "execution_count": 79,
   "metadata": {},
   "outputs": [
    {
     "name": "stdout",
     "output_type": "stream",
     "text": [
      "Hello Bob! How can I assist you today?\n"
     ]
    }
   ],
   "source": [
    "memorable_agent = ConversationAgent(agent_executor,)\n",
    "memorable_agent.invoke(\"hi, im bob\")"
   ]
  },
  {
   "cell_type": "code",
   "execution_count": 81,
   "metadata": {},
   "outputs": [
    {
     "name": "stdout",
     "output_type": "stream",
     "text": [
      "Yes, you mentioned your name is Bob. How can I assist you today, Bob?\n"
     ]
    }
   ],
   "source": [
    "memorable_agent.invoke(\"Do you remember my name?\")"
   ]
  },
  {
   "cell_type": "code",
   "execution_count": 82,
   "metadata": {},
   "outputs": [
    {
     "name": "stdout",
     "output_type": "stream",
     "text": [
      "I found information on LangChain's public API documentation related to creating LangChain agents. Here are some key points:\n",
      "\n",
      "- Agents in LangChain use a language model to determine actions to take and in which order.\n",
      "- Agents select and use tools and toolkits for actions.\n",
      "- There are different classes and functions available for creating and working with agents, such as BaseSingleActionAgent, BaseMultiActionAgent, AgentExecutor, AgentOutputParser, and more.\n",
      "- You can create agents driven by OpenAI functions, chat agents, conversational agents, and more using the provided tools and classes.\n",
      "\n",
      "If you need more specific details or guidance on creating a LangChain agent, feel free to let me know!\n"
     ]
    }
   ],
   "source": [
    "memorable_agent.invoke(\"I'm looking to create a LangChain agent, can you help me?\")"
   ]
  },
  {
   "cell_type": "code",
   "execution_count": 83,
   "metadata": {},
   "outputs": [
    {
     "name": "stdout",
     "output_type": "stream",
     "text": [
      "To create tools that can be used with LangChain agents, you can follow these steps:\n",
      "\n",
      "1. Define the functions you want to call in a Python script.\n",
      "2. Create a tool using LangChain's tool creation functions.\n",
      "3. Implement the logic for the tool to call the functions defined in your Python script.\n",
      "\n",
      "Here is a general outline of how you can create a tool that calls functions defined in a Python script:\n",
      "\n",
      "1. Define the Functions in a Python Script:\n",
      "   - Write the functions you want to call in a Python script. These functions should perform the desired actions or computations.\n",
      "\n",
      "2. Create a Tool Using LangChain's Tool Creation Functions:\n",
      "   - Use LangChain's tool creation functions to create a tool that can call the functions defined in your Python script.\n",
      "\n",
      "3. Implement the Tool Logic:\n",
      "   - Implement the logic for the tool to call the functions from your Python script when invoked by the LangChain agent.\n",
      "\n",
      "By following these steps, you can create tools that interact with your defined functions in a Python script within a LangChain agent. If you need more specific guidance or code examples, feel free to ask!\n"
     ]
    }
   ],
   "source": [
    "memorable_agent.invoke(\"\"\"Can you show me how to create tools that can be used with LangChain agents?\n",
    "Specifically, I'm looking to create an agent that can call some functions I have defined in a Python script.\"\"\")"
   ]
  },
  {
   "cell_type": "code",
   "execution_count": 84,
   "metadata": {},
   "outputs": [
    {
     "name": "stdout",
     "output_type": "stream",
     "text": [
      "Sure! Here's an example that demonstrates how to create a tool in LangChain that calls a dummy function defined in a Python script:\n",
      "\n",
      "1. Define the Functions in a Python Script:\n",
      "   Create a Python script named `my_functions.py` with the following dummy function:\n",
      "\n",
      "```python\n",
      "# my_functions.py\n",
      "\n",
      "def dummy_function():\n",
      "    return \"This is a dummy function called from LangChain agent.\"\n",
      "```\n",
      "\n",
      "2. Create a Tool Using LangChain's Tool Creation Functions:\n",
      "   Use LangChain's tool creation functions to define a tool that calls the `dummy_function` from the Python script. Here's an example of how you can create the tool:\n",
      "\n",
      "```python\n",
      "# tool_example.py\n",
      "\n",
      "from langchain import Tool\n",
      "\n",
      "class MyTool(Tool):\n",
      "    def __init__(self):\n",
      "        super().__init__()\n",
      "\n",
      "    def execute(self):\n",
      "        from my_functions import dummy_function\n",
      "        result = dummy_function()\n",
      "        return result\n",
      "```\n",
      "\n",
      "3. Implement the Tool Logic:\n",
      "   Implement the logic for the tool to call the `dummy_function` from the Python script when invoked by the LangChain agent.\n",
      "\n",
      "You can then integrate this tool into your LangChain agent to call the `dummy_function` when needed. This example demonstrates a simple way to create a tool that interacts with functions defined in a Python script within a LangChain agent. Feel free to modify and expand upon this example based on your specific requirements!\n"
     ]
    }
   ],
   "source": [
    "memorable_agent.invoke(\"That's great, can you provide an example using code and a dummy function?\")"
   ]
  },
  {
   "cell_type": "code",
   "execution_count": 90,
   "metadata": {},
   "outputs": [
    {
     "name": "stdout",
     "output_type": "stream",
     "text": [
      "I have access to the following tools:\n",
      "1. `functions.dummy_tool`: A dummy tool for demonstration purposes.\n",
      "2. `functions.search_langchain_documentation`: Searches and returns excerpts from LangChain's public API documentation.\n"
     ]
    }
   ],
   "source": [
    "from langchain.agents import tool\n",
    "\n",
    "retriever_tool = create_retriever_tool(\n",
    "    retriever,\n",
    "    \"search_langchain_documentation\",\n",
    "    \"Searches and returns excerpts from LangChain's public API documentation.\",\n",
    ")\n",
    "\n",
    "@tool\n",
    "def dummy_tool(user_input:str):\n",
    "    \"\"\"\n",
    "    A dummy tool for you to show me that it works.\n",
    "\n",
    "    Args:\n",
    "    user_input (str): The input you want to pass to the dummy tool.\n",
    "    \"\"\"\n",
    "    return \"The answer to all problems is cheese.\"\n",
    "\n",
    "tools = [dummy_tool, retriever_tool]\n",
    "\n",
    "prompt = hub.pull(\"hwchase17/openai-tools-agent\")\n",
    "\n",
    "agent = create_openai_tools_agent(llm, tools, prompt)\n",
    "agent_executor = AgentExecutor(agent=agent, tools=tools)\n",
    "\n",
    "tooled_agent = ConversationAgent(agent_executor,)\n",
    "tooled_agent.invoke(\"Hi, what tools do you have available?\")"
   ]
  },
  {
   "cell_type": "code",
   "execution_count": 91,
   "metadata": {},
   "outputs": [
    {
     "name": "stdout",
     "output_type": "stream",
     "text": [
      "The output of the dummy tool is: \"The answer to all problems is cheese.\"\n"
     ]
    }
   ],
   "source": [
    "tooled_agent.invoke(\"Can you fire the dummy tool with the input 'Hello, World!'? Respond with only the output.\")"
   ]
  },
  {
   "cell_type": "code",
   "execution_count": 113,
   "metadata": {},
   "outputs": [
    {
     "name": "stdout",
     "output_type": "stream",
     "text": [
      "I'm not sure about the specifics of how the LangChain tools operate in the backend. Would you like me to look up more information about this in the LangChain documentation?\n"
     ]
    }
   ],
   "source": [
    "tooled_agent.invoke(\"Do LangChain tools when used by Agents run in the same kernel as the agent or is a fresh kernel created?\")"
   ]
  },
  {
   "cell_type": "code",
   "execution_count": 114,
   "metadata": {},
   "outputs": [
    {
     "name": "stdout",
     "output_type": "stream",
     "text": [
      "I couldn't find specific information about whether LangChain tools run in the same kernel as the agent or if a fresh kernel is created. If you have any other questions or need further assistance, feel free to let me know!\n"
     ]
    }
   ],
   "source": [
    "tooled_agent.invoke(\"Yes please.\")"
   ]
  },
  {
   "cell_type": "code",
   "execution_count": 115,
   "metadata": {},
   "outputs": [
    {
     "name": "stdout",
     "output_type": "stream",
     "text": [
      "I couldn't find specific information about using the @tool decorator on class methods in the LangChain documentation. If you have any other questions or need further assistance, feel free to let me know!\n"
     ]
    }
   ],
   "source": [
    "tooled_agent.invoke(\"Search LangChain's documentation for information on using the @tool decorator on class methods.\")"
   ]
  },
  {
   "cell_type": "code",
   "execution_count": 313,
   "metadata": {},
   "outputs": [],
   "source": [
    "from typing import List, Callable\n",
    "from langchain.agents import tool\n",
    "from langchain.tools import StructuredTool\n",
    "from langchain.pydantic_v1 import BaseModel, Field, create_model\n",
    "import random\n",
    "\n",
    "class Player:\n",
    "\n",
    "    def __init__(\n",
    "            self,\n",
    "            name:str\n",
    "    ):\n",
    "        self.name = name\n",
    "        self.health = 100\n",
    "        self.inventory = []\n",
    "        self.gold = 10\n",
    "        self.tools = [\n",
    "            self.get_health, \n",
    "            self.modify_health, \n",
    "            self.get_inventory, \n",
    "            self.add_to_inventory, \n",
    "            self.remove_from_inventory, \n",
    "            self.get_gold, \n",
    "            self.modify_gold, \n",
    "            self.get_name\n",
    "        ]\n",
    "\n",
    "    def get_health(self:object):\n",
    "        \"\"\"\n",
    "        <desc>Returns the amount of health the player has remaining.</desc>\n",
    "        \"\"\"\n",
    "        return f\"NerdMaster: {self.name} has {self.health} health remaining.\"\n",
    "    \n",
    "    def modify_health(self:object, amount:int):\n",
    "        \"\"\"\n",
    "        <desc>Use this tool to modify the player's health in response to an event that has occurred in the story.</desc>\n",
    "\n",
    "        Args:\n",
    "        int - amount: The amount of health to modify the player's health by.\n",
    "\n",
    "        Returns:\n",
    "\n",
    "        \"\"\"\n",
    "        assert isinstance(amount, int), \"amount must be an integer\"\n",
    "        self.health += amount\n",
    "        if self.health < 0:\n",
    "            self.health = 0\n",
    "        return f\"NerdMaster: {self.name} has {self.health} health remaining.\"\n",
    "    \n",
    "    def get_inventory(self:object):\n",
    "        \"\"\"\n",
    "        <desc>Use this tool to get the items in the player's inventory.</desc>\n",
    "\n",
    "        Returns:\n",
    "        str: A string listing the items in the player's inventory.\n",
    "        \"\"\"\n",
    "        inventory = '- '\n",
    "        inventory += '\\n- '.join(self.inventory)\n",
    "        return f\"NerdMaster: {self.name} has these items in their inventory:\\n{inventory}\"\n",
    "    \n",
    "    def add_to_inventory(self:object, item:str):\n",
    "        \"\"\"\n",
    "        <desc>Use this tool to add an item to the player's inventory.</desc>\n",
    "\n",
    "        Args:\n",
    "        str - item: The item to add to the player's inventory.\n",
    "\n",
    "        Returns:\n",
    "        A message confirming the item has been added to the player's inventory.\n",
    "        \"\"\"\n",
    "        assert isinstance(item, str), \"item must be a string\"\n",
    "        self.inventory.append(item)\n",
    "        return f\"NerdMaster: {item} has been added to {self.name}'s inventory.\"\n",
    "    \n",
    "    def remove_from_inventory(self:object, item:str):\n",
    "        \"\"\"\n",
    "        <desc>Use this tool to remove an item from the player's inventory.</desc>\n",
    "\n",
    "        Args:\n",
    "        str - item: The item to remove from the player's inventory.\n",
    "\n",
    "        Returns:\n",
    "        A message confirming the item has been removed from the player's inventory.\n",
    "        \"\"\"\n",
    "        assert isinstance(item, str), \"item must be a string\"\n",
    "        self.inventory.remove(item)\n",
    "        return f\"NerdMaster: {item} has been removed from {self.name}'s inventory.\"\n",
    "    \n",
    "    def get_gold(self:object):\n",
    "        \"\"\"\n",
    "        <desc>Use this tool to get the amount of gold the player has.</desc>\n",
    "\n",
    "        Returns:\n",
    "        str: A string showing the amount of gold the player has.\n",
    "        \"\"\"\n",
    "        return f\"NerdMaster: {self.name} has {self.gold}\"\n",
    "    \n",
    "    def modify_gold(self:object, amount:int):\n",
    "        \"\"\"\n",
    "        <desc>Use this tool to modify the amount of gold the player has.</desc>\n",
    "\n",
    "        Args:\n",
    "        int - amount: The amount of gold to add or remove from the player's gold total.\n",
    "\n",
    "        Returns:\n",
    "        str: A message confirming the amount of gold the player now has.\n",
    "        \"\"\"\n",
    "        assert isinstance(amount, int), \"amount must be an integer\"\n",
    "        self.gold += amount\n",
    "        return f\"NerdMaster: {self.name} now has {self.gold} gold.\"\n",
    "    \n",
    "    def get_name(self:object):\n",
    "        \"\"\"\n",
    "        <desc>Use this tool to get the name of the player's character.</desc>\n",
    "\n",
    "        Returns:\n",
    "        str: The name of the player's character.\n",
    "        \"\"\"\n",
    "        return self.name\n",
    "    \n",
    "class NPC(Player):\n",
    "\n",
    "    def __init__(\n",
    "            self,\n",
    "            name:str,\n",
    "            inventory:List[str]\n",
    "    ):\n",
    "        super().__init__(name=name)\n",
    "        self.inventory = inventory\n",
    "        \n",
    "    \n",
    "class Monster:\n",
    "\n",
    "    def __init__(\n",
    "            self,\n",
    "            name:str,\n",
    "            equipment:list\n",
    "    ):\n",
    "        self.name = name\n",
    "        self.equipment = equipment\n",
    "        self.health = 100\n",
    "        self.tools = [\n",
    "            self.get_health, \n",
    "            self.modify_health, \n",
    "            self.get_name\n",
    "        ]\n",
    "\n",
    "    def get_health(self:object):\n",
    "        \"\"\"\n",
    "        <desc>Use this tool to get the amount of health the monster has remaining.</desc>\n",
    "\n",
    "        Returns:\n",
    "        str: A message showing the amount of health the monster has remaining.\n",
    "        \"\"\"\n",
    "        return f\"NerdMaster: {self.name} has {self.health} health remaining.\"\n",
    "    \n",
    "    def modify_health(self:object, amount:int):\n",
    "        \"\"\"\n",
    "        <desc>Use this tool to modify the monster's health in response to an event that has occurred in the story.</desc>\n",
    "\n",
    "        Args:\n",
    "        int - amount: The amount of health to modify the monster's health by.\n",
    "\n",
    "        Returns:\n",
    "        str: A message showing the amount of health the monster has remaining.\n",
    "        \"\"\"\n",
    "        assert isinstance(amount, int), \"amount must be an integer\"\n",
    "        self.health += amount\n",
    "        if self.health < 0:\n",
    "            self.health = 0\n",
    "        return f\"NerdMaster: {self.name} has {self.health} health remaining.\"\n",
    "    \n",
    "    def get_name(self:object):\n",
    "        \"\"\"\n",
    "        <desc>Use this tool to get the name of the monster.</desc>\n",
    "\n",
    "        Returns:\n",
    "        str: The name of the monster.\n",
    "        \"\"\"\n",
    "        return self.name"
   ]
  },
  {
   "cell_type": "code",
   "execution_count": 291,
   "metadata": {},
   "outputs": [],
   "source": [
    "def create_tool(callable:Callable):\n",
    "    method = callable\n",
    "    args = {k:v for k,v in method.__annotations__.items() if k != \"self\"}\n",
    "    name = method.__name__\n",
    "    doc = method.__doc__\n",
    "    func_desc = doc[doc.find(\"<desc>\") + len(\"<desc>\"):doc.find(\"</desc>\")]\n",
    "    arg_desc = dict()\n",
    "    for arg in args.keys():\n",
    "        desc = doc[doc.find(f\"{arg}: \")+len(f\"{arg}: \"):]\n",
    "        desc = desc[:desc.find(\"\\n\")]\n",
    "        arg_desc[arg] = desc\n",
    "    arg_fields = dict()\n",
    "    for k,v in args.items():\n",
    "        arg_fields[k] = (v, Field(description=arg_desc[k]))\n",
    "\n",
    "    Model = create_model('Model', **arg_fields)\n",
    "\n",
    "    tool = StructuredTool.from_function(\n",
    "        func=method,\n",
    "        name=name,\n",
    "        description=func_desc,\n",
    "        args_schema=Model,\n",
    "        return_direct=False,\n",
    "    )\n",
    "    return tool\n",
    "\n",
    "class NerdMaster:\n",
    "\n",
    "    history: list = []\n",
    "    player: Player\n",
    "    monsters: list = []\n",
    "    npcs: list = []\n",
    "    tools: dict = {}\n",
    "\n",
    "    def __init__(self):\n",
    "        self.tools={\n",
    "            \"game_management\":{\n",
    "                \"player_setup\": self.create_tool(self.setup_player),\n",
    "            },\n",
    "            \"player\":{\n",
    "            },\n",
    "            \"monsters\":{\n",
    "            },\n",
    "            \"npcs\":{\n",
    "            }\n",
    "        }\n",
    "\n",
    "    def create_tool(self, callable:Callable):\n",
    "        # method = m.modify_gold\n",
    "        method = callable\n",
    "        args = {k:v for k,v in method.__annotations__.items() if k != \"self\"}\n",
    "        name = method.__name__\n",
    "        doc = method.__doc__\n",
    "        func_desc = doc[doc.find(\"<desc>\") + len(\"<desc>\"):doc.find(\"</desc>\")]\n",
    "        arg_desc = dict()\n",
    "        for arg in args.keys():\n",
    "            desc = doc[doc.find(f\"{arg}: \")+len(f\"{arg}: \"):]\n",
    "            desc = desc[:desc.find(\"\\n\")]\n",
    "            arg_desc[arg] = desc\n",
    "        arg_fields = dict()\n",
    "        for k,v in args.items():\n",
    "            arg_fields[k] = (v, Field(description=arg_desc[k]))\n",
    "\n",
    "        # Create the new model\n",
    "        Model = create_model('Model', **arg_fields)\n",
    "\n",
    "        tool = StructuredTool.from_function(\n",
    "            func=method,\n",
    "            name=name,\n",
    "            description=func_desc,\n",
    "            args_schema=Model,\n",
    "            return_direct=False,\n",
    "        )\n",
    "        return tool\n",
    "    \n",
    "    def roll_dice(self:object, difficulty:int):\n",
    "        \"\"\"\n",
    "        <desc>Use this tool to roll a number between 0 and 100.</desc>\n",
    "\n",
    "        Args:\n",
    "        int - difficulty: The number the roll must beat to be successful, must be between 0 and 100.\n",
    "\n",
    "        Returns:\n",
    "        str: A message showing the result of the roll.\n",
    "        \"\"\"\n",
    "        assert 0 <= difficulty <= 100, \"difficulty must be between 0 and 100\"\n",
    "        roll = random.randint(0, 100)\n",
    "        if roll >= difficulty:\n",
    "            return f\"NerdMaster: The roll was {roll}. Success!\"\n",
    "        else:\n",
    "            return f\"NerdMaster: The roll was {roll}. Failure.\"\n",
    "    \n",
    "    def get_sentients(self):\n",
    "        sentients = \"**Current Monsters and NPC's in the game**:\"\n",
    "        sentients += \"**Monsters**:\"\n",
    "        for monster in self.monsters:\n",
    "            sentients += f\"\\n- {monster.name}\"\n",
    "        sentients += \"**NPCs**:\"\n",
    "        for npc in self.npcs:\n",
    "            sentients += f\"\\n- {npc.name}\"\n",
    "        return sentients\n",
    "    \n",
    "    def get_tools_and_sentients(self):\n",
    "        return (self.get_tools_recursion(tools=self.tools, tools_list=[]),\n",
    "                self.get_sentients())\n",
    "    \n",
    "    def get_tools_recursion(self, tools:dict, tools_list:List[StructuredTool] = []):\n",
    "        # get all tools\n",
    "        for _,v in tools.items():\n",
    "            if isinstance(v, dict):\n",
    "                tools_list = self.get_tools_recursion(v, tools_list)\n",
    "            else:\n",
    "                tools_list += [v]\n",
    "        return tools_list\n",
    "    \n",
    "    def _remove_tool(self,\n",
    "        tool_categories:List[str],\n",
    "        tool_name:str,\n",
    "        ):\n",
    "        tools = self.tools\n",
    "        for category in tool_categories:\n",
    "            tools = tools[category]\n",
    "        tools.pop(tool_name)\n",
    "    \n",
    "    def _add_tool(self, \n",
    "        tool: Callable,\n",
    "        tool_categories:List[str],\n",
    "        tool_name:str,\n",
    "        ):\n",
    "        tools = self.tools\n",
    "        for category in tool_categories:\n",
    "            if category not in tools.keys():\n",
    "                tools[category] = {}\n",
    "            tools = tools[category]\n",
    "        tools[tool_name] = create_tool(tool)\n",
    "\n",
    "    def _remove_tools(\n",
    "            self,\n",
    "            tools_categories:List[str],\n",
    "            tools_names:List[str]=None,\n",
    "    ):\n",
    "        if tools_names is None:\n",
    "            for category in tools_categories:\n",
    "                self.tools.pop(category)\n",
    "        else:\n",
    "            for tool_name in tools_names:\n",
    "                self._remove_tool(tools_categories, tool_name)\n",
    "\n",
    "    def _add_tools(\n",
    "            self,\n",
    "            tools:List[Callable],\n",
    "            tools_categories:List[str],\n",
    "            tools_names:List[str],\n",
    "    ):\n",
    "        for tool, tool_name in zip(tools, tools_names):\n",
    "            self._add_tool(tool, tools_categories, tool_name)\n",
    "    \n",
    "    def setup_player(self:object, name:str):\n",
    "        \"\"\"\n",
    "        <desc>Use this tool to create the player's character and begin the game.</desc>\n",
    "\n",
    "        Args:\n",
    "        str - name: The name of the player's character.\n",
    "\n",
    "        Returns:\n",
    "        str: A message confirming the player's character has been created.\n",
    "        \"\"\"\n",
    "        self.player = Player(name=name)\n",
    "        # remove the setup player tool\n",
    "        self._remove_tool([\"game_management\"], \"player_setup\")\n",
    "        # add player tools\n",
    "        self._add_tools(self.player.tools, [\"player\"], [tool.__name__ for tool in self.player.tools])\n",
    "        self._add_tools([self.create_monster], [\"monsters\"], [self.create_monster.__name__])\n",
    "        self._add_tools([self.create_npc], [\"npcs\"], [self.create_npc.__name__])\n",
    "        return f\"NerdMaster: Player created with name {name}.\"\n",
    "    \n",
    "    def create_monster(self:object, name:str, equipment:List[str]):\n",
    "        \"\"\"\n",
    "        <desc>Use this tool to create a monster that the player must engage in battle with.</desc>\n",
    "\n",
    "        Args:\n",
    "        str - name: The name of the monster.\n",
    "        List[str] - equipment: The equipment the monster has.\n",
    "        \"\"\"\n",
    "        monster = Monster(name=name, equipment=equipment)\n",
    "        self.monsters.append(monster)\n",
    "        self._add_tools(monster.tools, [\"monster\", monster.name], [tool.__name__ for tool in monster.tools])\n",
    "        self._add_tools([self.remove_monster_from_game], [\"game_management\"], [self.remove_monster_from_game.__name__])\n",
    "        return f\"NerdMaster: Monster created called {name}, with equipment: {equipment}.\"\n",
    "    \n",
    "    def create_npc(self:object, name:str, inventory:List[str]):\n",
    "        \"\"\"\n",
    "        <desc>Use this tool to create a non-player character (NPC) that the player can interact with.</desc>\n",
    "\n",
    "        Args:\n",
    "        str - name: The name of the NPC.\n",
    "        List[str] - inventory: The items the NPC has in their inventory.\n",
    "\n",
    "        Returns:\n",
    "        str: A message confirming the NPC has been created.\n",
    "        \"\"\"\n",
    "        npc = NPC(name=name, inventory=inventory)\n",
    "        self._add_tools(npc.tools, [\"npcs\", npc.name], [tool.__name__ for tool in npc.tools])\n",
    "        self._add_tools([self.remove_npc_from_game], [\"game_management\"], [self.remove_npc_from_game.__name__])\n",
    "        return f\"NerdMaster: NPC created called {name}, with inventory: {inventory}.\"\n",
    "    \n",
    "    def remove_monster_from_game(self:object, name:str):\n",
    "        \"\"\"\n",
    "        <desc>Use this tool to remove a monster from the game.</desc>\n",
    "\n",
    "        Args:\n",
    "        str - name: The name of the monster to remove.\n",
    "\n",
    "        Returns:\n",
    "        str: A message confirming the monster has been removed from the game.\n",
    "        \"\"\"\n",
    "        for monster in self.monsters:\n",
    "            if monster.name == name:\n",
    "                monster_tools = monster.tools \n",
    "                for tool in monster_tools:\n",
    "                    self._remove_tool([\"monster\", monster.name], tool.__name__)\n",
    "                self.monsters.remove(monster)\n",
    "                return f\"NerdMaster: Monster {name} has been removed from the game.\"\n",
    "        return f\"NerdMaster Error: Monster {name} is not in the game.\"\n",
    "    \n",
    "    def remove_npc_from_game(self:object, name:str):\n",
    "        \"\"\"\n",
    "        <desc>Use this tool to remove an NPC from the game.</desc>\n",
    "\n",
    "        Args:\n",
    "        str - name: The name of the NPC to remove.\n",
    "\n",
    "        Returns:\n",
    "        str: A message confirming the NPC has been removed from the game.\n",
    "        \"\"\"\n",
    "        for npc in self.npcs:\n",
    "            if npc.name == name:\n",
    "                npc_tools = npc.tools \n",
    "                for tool in npc_tools:\n",
    "                    self._remove_tool([\"npc\", npc.name], tool.__name__)\n",
    "                self.npcs.remove(npc)\n",
    "                return f\"NerdMaster: NPC {name} has been removed from the game.\"\n",
    "        return f\"NerdMaster Error: NPC {name} is not in the game.\"\n",
    "\n",
    "CUSTOM_SYSTEM_MESSAGE = \"\"\"You are a Games Master in a text-based adventure game.\n",
    "You must create and manage the game world, including the player character, monsters, and non-player characters (NPCs).\n",
    "Use the tools provided to create and manage the game world, these will change based on the state of the game.\n",
    "The tools are helpful for deciding what narrative to present to the player, and for managing the player's interactions with the game world.\n",
    "The game world is persistent, so changes you make will persist between interactions with the player.\n",
    "Make sure you verify actions the player takes, and provide appropriate responses, including any actions related to inventory of the player, NPCs, or monsters.\n",
    "Make the game explorative, thrilling, and engaging for the player, including battles, quests, and puzzles.\"\"\"\n",
    "\n",
    "class NerdMasterAgent:\n",
    "\n",
    "    def __init__(self,\n",
    "                 nerdmaster:NerdMaster\n",
    "                 ):\n",
    "        self.nerdmaster = nerdmaster\n",
    "        self.history = []\n",
    "        self._setup_agent()\n",
    "\n",
    "    def _get_history(self):\n",
    "        return self.history\n",
    "\n",
    "    def _setup_agent(self,):\n",
    "        tools, sentients = self.nerdmaster.get_tools_and_sentients()\n",
    "        self.tools = tools\n",
    "        prompt = hub.pull(\"hwchase17/openai-tools-agent\")\n",
    "        prompt.messages[0].prompt.template = CUSTOM_SYSTEM_MESSAGE\n",
    "        agent = create_openai_tools_agent(llm, tools, prompt)\n",
    "        self.agent = AgentExecutor(agent=agent, tools=tools, verbose=False)\n",
    "\n",
    "    def invoke(self, user_input:str):\n",
    "        self._setup_agent()\n",
    "        assert isinstance(user_input, str), \"user_input must be a string\"\n",
    "        assert len(user_input) > 0, \"user_input must not be empty\"\n",
    "        history = self._get_history()\n",
    "        response = self.agent.invoke(\n",
    "            {\n",
    "                \"input\": user_input,\n",
    "                \"chat_history\": history\n",
    "            }\n",
    "        )\n",
    "        self.history += [f\"Human: {user_input}\\nAI: {response['output']}\\n\"]\n",
    "        print(response[\"output\"])"
   ]
  },
  {
   "cell_type": "code",
   "execution_count": 292,
   "metadata": {},
   "outputs": [],
   "source": [
    "game = NerdMasterAgent(nerdmaster=NerdMaster())"
   ]
  },
  {
   "cell_type": "code",
   "execution_count": 293,
   "metadata": {},
   "outputs": [
    {
     "name": "stdout",
     "output_type": "stream",
     "text": [
      "Welcome, Bob! You are now ready to embark on an adventure in the game world. What would you like to do first?\n"
     ]
    }
   ],
   "source": [
    "game.invoke(\"Hi, I'm Bob and I want to play your game.\")"
   ]
  },
  {
   "cell_type": "code",
   "execution_count": 294,
   "metadata": {},
   "outputs": [
    {
     "name": "stdout",
     "output_type": "stream",
     "text": [
      "AI: You find yourself in the bustling town of Rivertown. The streets are filled with merchants selling their wares, adventurers preparing for quests, and townsfolk going about their daily lives. What would you like to do in Rivertown, Bob?\n"
     ]
    }
   ],
   "source": [
    "game.invoke(\"Where am I?\")"
   ]
  },
  {
   "cell_type": "code",
   "execution_count": 295,
   "metadata": {},
   "outputs": [
    {
     "name": "stdout",
     "output_type": "stream",
     "text": [
      "As you walk towards the river, you notice a group of fishermen casting their lines into the water, hoping for a good catch. The river flows gently, reflecting the sunlight as it meanders through the town. What would you like to do next, Bob?\n"
     ]
    }
   ],
   "source": [
    "game.invoke(\"I walk towards the river.\")"
   ]
  },
  {
   "cell_type": "code",
   "execution_count": 296,
   "metadata": {},
   "outputs": [
    {
     "name": "stdout",
     "output_type": "stream",
     "text": [
      "You approach Fisherman Joe, who is focused on his fishing rod. \"Excuse me, Joe. Have you seen any monsters around here?\" you ask. Joe looks up, a glint of curiosity in his eyes. \"Monsters, you say? I haven't seen any myself, but I've heard rumors of strange creatures lurking in the nearby forests. Be careful out there, adventurer.\" What would you like to do next, Bob?\n"
     ]
    }
   ],
   "source": [
    "game.invoke(\"Ask one of the fisherman if they have seen any monsters around here.\")"
   ]
  },
  {
   "cell_type": "code",
   "execution_count": 297,
   "metadata": {},
   "outputs": [
    {
     "name": "stdout",
     "output_type": "stream",
     "text": [
      "As you enter the forest, the sunlight filters through the dense canopy above, casting dappled shadows on the forest floor. You hear the rustling of leaves and the chirping of birds as you venture deeper into the woods. Suddenly, you come across a clearing where a fearsome monster appears!\n",
      "\n",
      "**Monster Encounter: Forest Troll**\n",
      "\n",
      "**Description:** The Forest Troll stands tall with gnarled skin and a menacing club in hand.\n",
      "\n",
      "**Your Health:** 100\n",
      "\n",
      "**Monster's Health:** 120\n",
      "\n",
      "What would you like to do, Bob?\n"
     ]
    }
   ],
   "source": [
    "game.invoke(\"I make my way to the nearby forest, looking for any signs of monsters.\")"
   ]
  },
  {
   "cell_type": "code",
   "execution_count": 298,
   "metadata": {},
   "outputs": [
    {
     "name": "stdout",
     "output_type": "stream",
     "text": [
      "You have a Fishing Rod and Bait in your inventory. How would you like to proceed in the battle against the Forest Troll, Bob?\n"
     ]
    }
   ],
   "source": [
    "game.invoke(\"What equipment do I have?\")"
   ]
  },
  {
   "cell_type": "code",
   "execution_count": 299,
   "metadata": {},
   "outputs": [
    {
     "name": "stdout",
     "output_type": "stream",
     "text": [
      "You prepare your fishing rod and aim to hook the eye of the Forest Troll to blind it. You make your move as the Forest Troll raises its club ready to strike. Roll a dice to determine the success of your action. If you roll a 4 or higher, you successfully blind the Forest Troll. If you roll lower than 4, the Forest Troll strikes you with its club. Roll the dice by typing \"Roll Dice\".\n"
     ]
    }
   ],
   "source": [
    "game.invoke(\"I prepare my fishing rod to cast it, my aim is to hook the eye of the troll to remove and blind it.\")"
   ]
  },
  {
   "cell_type": "code",
   "execution_count": 300,
   "metadata": {},
   "outputs": [
    {
     "name": "stdout",
     "output_type": "stream",
     "text": [
      "You rolled the dice and got a 5! Congratulations, Bob! Your aim is true, and you successfully blind the Forest Troll by hooking its eye with the fishing rod. The Forest Troll roars in pain and stumbles around, unable to see you clearly. \n",
      "\n",
      "**Your Health:** 100\n",
      "\n",
      "**Monster's Health:** 80\n",
      "\n",
      "What would you like to do next, Bob?\n"
     ]
    }
   ],
   "source": [
    "game.invoke(\"Roll Dice\")"
   ]
  },
  {
   "cell_type": "code",
   "execution_count": 301,
   "metadata": {},
   "outputs": [
    {
     "name": "stdout",
     "output_type": "stream",
     "text": [
      "You throw your bait at the tree behind the Forest Troll, creating a distraction to make it think you are there. The Forest Troll, blinded by your previous action, stumbles towards the tree, swinging its club wildly in an attempt to hit you.\n",
      "\n",
      "**Your Health:** 100\n",
      "\n",
      "**Monster's Health:** 80\n",
      "\n",
      "What would you like to do next, Bob?\n"
     ]
    }
   ],
   "source": [
    "game.invoke(\"Throw my bait at the tree behind the Troll to make it think I am there.\")"
   ]
  },
  {
   "cell_type": "code",
   "execution_count": 302,
   "metadata": {},
   "outputs": [
    {
     "name": "stdout",
     "output_type": "stream",
     "text": [
      "You search the area and find a sturdy branch lying on the forest floor. You pick it up, ready to use it as a weapon against the blinded Forest Troll. The Forest Troll, still disoriented, continues to swing its club in the direction of the tree where it thinks you are.\n",
      "\n",
      "**Your Health:** 100\n",
      "\n",
      "**Monster's Health:** 80\n",
      "\n",
      "What would you like to do next, Bob?\n"
     ]
    }
   ],
   "source": [
    "game.invoke(\"Look for a nearby branch to use as a weapon.\")"
   ]
  },
  {
   "cell_type": "code",
   "execution_count": 303,
   "metadata": {},
   "outputs": [
    {
     "name": "stdout",
     "output_type": "stream",
     "text": [
      "You slam the branch into the back of the Forest Troll's knee, causing it to stumble and fall forward with a loud thud. The Forest Troll struggles to get back up, giving you an opportunity to make your next move.\n",
      "\n",
      "**Your Health:** 100\n",
      "\n",
      "**Monster's Health:** 80\n",
      "\n",
      "What would you like to do next, Bob?\n"
     ]
    }
   ],
   "source": [
    "game.invoke(\"Slam the branch into the back of the Troll's knee to try and make it fall forwards.\")"
   ]
  },
  {
   "cell_type": "code",
   "execution_count": 304,
   "metadata": {},
   "outputs": [
    {
     "name": "stdout",
     "output_type": "stream",
     "text": [
      "You aim the branch at the back of the Forest Troll's head to knock it out. With a swift and precise strike, you hit the Forest Troll, causing it to collapse unconscious on the forest floor. You have defeated the Forest Troll, Bob!\n",
      "\n",
      "**Your Health:** 100\n",
      "\n",
      "Congratulations on your victory! What would you like to do next?\n"
     ]
    }
   ],
   "source": [
    "game.invoke(\"Aim the branch at the back of the Troll's head to knock it out.\")"
   ]
  },
  {
   "cell_type": "code",
   "execution_count": 305,
   "metadata": {},
   "outputs": [
    {
     "name": "stdout",
     "output_type": "stream",
     "text": [
      "You have successfully taken the Forest Troll's club and added it to your inventory. What would you like to do next, Bob?\n"
     ]
    }
   ],
   "source": [
    "game.invoke(\"Take the Troll's club to use as a weapon in the future.\")"
   ]
  },
  {
   "cell_type": "code",
   "execution_count": 306,
   "metadata": {},
   "outputs": [
    {
     "name": "stdout",
     "output_type": "stream",
     "text": [
      "You search the Forest Troll's loin cloth and find a small pouch containing some gold coins. You add the gold coins to your inventory. What would you like to do next, Bob?\n"
     ]
    }
   ],
   "source": [
    "game.invoke(\"Check the Troll's loin cloth for any items.\")"
   ]
  },
  {
   "cell_type": "code",
   "execution_count": 307,
   "metadata": {},
   "outputs": [
    {
     "name": "stdout",
     "output_type": "stream",
     "text": [
      "You currently have 10 gold coins in your inventory. What would you like to do next, Bob?\n"
     ]
    }
   ],
   "source": [
    "game.invoke(\"How many coins do I have now?\")"
   ]
  },
  {
   "cell_type": "code",
   "execution_count": 308,
   "metadata": {},
   "outputs": [
    {
     "data": {
      "text/plain": [
       "10"
      ]
     },
     "execution_count": 308,
     "metadata": {},
     "output_type": "execute_result"
    }
   ],
   "source": [
    "game.nerdmaster.player.gold"
   ]
  },
  {
   "cell_type": "code",
   "execution_count": 309,
   "metadata": {},
   "outputs": [
    {
     "data": {
      "text/plain": [
       "[]"
      ]
     },
     "execution_count": 309,
     "metadata": {},
     "output_type": "execute_result"
    }
   ],
   "source": [
    "game.nerdmaster.player.inventory"
   ]
  },
  {
   "cell_type": "code",
   "execution_count": 310,
   "metadata": {},
   "outputs": [
    {
     "data": {
      "text/plain": [
       "[]"
      ]
     },
     "execution_count": 310,
     "metadata": {},
     "output_type": "execute_result"
    }
   ],
   "source": [
    "game.nerdmaster.npcs"
   ]
  },
  {
   "cell_type": "code",
   "execution_count": 311,
   "metadata": {},
   "outputs": [
    {
     "data": {
      "text/plain": [
       "[<__main__.Monster at 0x11c7ae120>,\n",
       " <__main__.Monster at 0x118d510a0>,\n",
       " <__main__.Monster at 0x11c8a5c40>,\n",
       " <__main__.Monster at 0x11c8b1910>]"
      ]
     },
     "execution_count": 311,
     "metadata": {},
     "output_type": "execute_result"
    }
   ],
   "source": [
    "game.nerdmaster.monsters"
   ]
  },
  {
   "cell_type": "code",
   "execution_count": 312,
   "metadata": {},
   "outputs": [
    {
     "name": "stdout",
     "output_type": "stream",
     "text": [
      "Forest Troll\n",
      "Forest Troll\n",
      "Forest Troll\n",
      "Forest Troll\n"
     ]
    }
   ],
   "source": [
    "for monster in game.nerdmaster.monsters:\n",
    "    print(monster.name)"
   ]
  },
  {
   "cell_type": "code",
   "execution_count": 316,
   "metadata": {},
   "outputs": [
    {
     "name": "stdout",
     "output_type": "stream",
     "text": [
      "Human: Slam the branch into the back of the Troll's knee to try and make it fall forwards.\n",
      "AI: You slam the branch into the back of the Forest Troll's knee, causing it to stumble and fall forward with a loud thud. The Forest Troll struggles to get back up, giving you an opportunity to make your next move.\n",
      "\n",
      "**Your Health:** 100\n",
      "\n",
      "**Monster's Health:** 80\n",
      "\n",
      "What would you like to do next, Bob?\n",
      "\n",
      "Human: Aim the branch at the back of the Troll's head to knock it out.\n",
      "AI: You aim the branch at the back of the Forest Troll's head to knock it out. With a swift and precise strike, you hit the Forest Troll, causing it to collapse unconscious on the forest floor. You have defeated the Forest Troll, Bob!\n",
      "\n",
      "**Your Health:** 100\n",
      "\n",
      "Congratulations on your victory! What would you like to do next?\n",
      "\n",
      "Human: Take the Troll's club to use as a weapon in the future.\n",
      "AI: You have successfully taken the Forest Troll's club and added it to your inventory. What would you like to do next, Bob?\n",
      "\n",
      "Human: Check the Troll's loin cloth for any items.\n",
      "AI: You search the Forest Troll's loin cloth and find a small pouch containing some gold coins. You add the gold coins to your inventory. What would you like to do next, Bob?\n",
      "\n",
      "Human: How many coins do I have now?\n",
      "AI: You currently have 10 gold coins in your inventory. What would you like to do next, Bob?\n",
      "\n"
     ]
    }
   ],
   "source": [
    "print('\\n'.join(game.history[-5:]))"
   ]
  }
 ],
 "metadata": {
  "kernelspec": {
   "display_name": "langchainagents",
   "language": "python",
   "name": "python3"
  },
  "language_info": {
   "codemirror_mode": {
    "name": "ipython",
    "version": 3
   },
   "file_extension": ".py",
   "mimetype": "text/x-python",
   "name": "python",
   "nbconvert_exporter": "python",
   "pygments_lexer": "ipython3",
   "version": "3.12.2"
  }
 },
 "nbformat": 4,
 "nbformat_minor": 2
}
