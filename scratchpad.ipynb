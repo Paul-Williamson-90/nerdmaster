{
 "cells": [
  {
   "cell_type": "code",
   "execution_count": 1,
   "metadata": {},
   "outputs": [],
   "source": [
    "from src.characters.health import Health\n",
    "from src.characters.skills.skill_tree import SkillTree\n",
    "from src.characters.backpack import Backpack\n",
    "from src.characters.equipped import Equipped\n",
    "from src.characters.background import Background\n",
    "from src.characters.memory.base import Memory\n",
    "from src.characters.avatars.base import Avatar\n",
    "from src.triggers.base import Trigger\n",
    "from src.characters.types.npc import NPC\n",
    "import json\n",
    "\n",
    "def get_character(character_name, data):\n",
    "    character_data = data[character_name]\n",
    "    character_data[\"background\"] = Background(**character_data[\"background\"])\n",
    "    character_data[\"memory\"] = Memory(background=character_data[\"background\"],\n",
    "                                    **character_data[\"memory\"])\n",
    "    character_data[\"avatar\"] = Avatar(visual_description=character_data[\"visual_description\"],\n",
    "                                    avatar=character_data[\"avatar\"][\"image\"])\n",
    "    character_data[\"health\"] = Health(**character_data[\"health\"])\n",
    "    character_data[\"skills\"] = SkillTree(skills=character_data[\"skills\"])\n",
    "    character_data[\"backpack\"] = Backpack(item_ids=character_data[\"backpack\"])\n",
    "    character_data[\"equipped_items\"] = Equipped(slot_items=character_data[\"equipped_items\"])\n",
    "    character_data[\"triggers\"] = [Trigger(trigger_id=trigger) for trigger in character_data[\"triggers\"]]\n",
    "\n",
    "    npc = NPC(**character_data)\n",
    "    return npc\n",
    "\n",
    "def print_response(res):\n",
    "    res = res.split(\"\\n\")\n",
    "    for r in res:\n",
    "        for i in range(0,len(r),200):\n",
    "            print(r[i:i+200])"
   ]
  },
  {
   "cell_type": "code",
   "execution_count": 2,
   "metadata": {},
   "outputs": [],
   "source": [
    "with open(\"./data/characters/characters.json\", \"r\") as f:\n",
    "    data = json.load(f)\n",
    "\n",
    "character_name = \"Wyatt \\\"Ace\\\" Thompson\"\n",
    "\n",
    "npc = get_character(character_name, data)"
   ]
  },
  {
   "cell_type": "code",
   "execution_count": 3,
   "metadata": {},
   "outputs": [
    {
     "name": "stdout",
     "output_type": "stream",
     "text": [
      "\n",
      "\n",
      "\u001b[1m> Entering new AgentExecutor chain...\u001b[0m\n",
      "\u001b[32;1m\u001b[1;3m<stage>Wyatt gives Bob a measured look, his expression unreadable. He takes a moment before responding, his voice steady and calm.</stage>\n",
      "<Wyatt \"Ace\" Thompson>\"Name's Wyatt. Wyatt Thompson. But folks around here call me 'Ace'.\"</Wyatt \"Ace\" Thompson>\u001b[0m\n",
      "\n",
      "\u001b[1m> Finished chain.\u001b[0m\n",
      "\n",
      "\n",
      "RESPONSE:\n",
      "<stage>Wyatt gives Bob a measured look, his expression unreadable. He takes a moment before responding, his voice steady and calm.</stage>\n",
      "<Wyatt \"Ace\" Thompson>: \"Name's Wyatt. Wyatt Thompson. But folks around here call me 'Ace'.\"</Wyatt \"Ace\" Thompson>\n",
      "\n",
      "\n",
      "ACTIONS:\n",
      "[]\n"
     ]
    }
   ],
   "source": [
    "response, actions = npc.character_reaction(\n",
    "    event=\"\"\"<dialogue>\"Howdy! My name is Bob. Who are you?\"</dialogue>\"\"\",\n",
    "    name=\"Stranger\")\n",
    "print(\"\\n\\nRESPONSE:\")\n",
    "print_response(response)\n",
    "print(\"\\n\\nACTIONS:\")\n",
    "print(actions)"
   ]
  },
  {
   "cell_type": "code",
   "execution_count": 4,
   "metadata": {},
   "outputs": [
    {
     "name": "stdout",
     "output_type": "stream",
     "text": [
      "\n",
      "\n",
      "\u001b[1m> Entering new AgentExecutor chain...\u001b[0m\n",
      "\u001b[32;1m\u001b[1;3m<stage>Wyatt's gaze shifts slightly to the horizon, a flicker of memories playing behind his eyes. He takes a slow, deep breath, weighing his words carefully before he speaks.</stage>\n",
      "<Wyatt \"Ace\" Thompson>\"It's a long tale, filled with dust, sweat, and blood. Not the kind of story that gets told over a campfire. Let's just say, I've been searching for justice in a world that seems to have forgotten what that word means.\"</Wyatt \"Ace\" Thompson>\n",
      "\u001b[0m\n",
      "\n",
      "\u001b[1m> Finished chain.\u001b[0m\n",
      "\n",
      "\n",
      "RESPONSE:\n",
      "<stage>Wyatt's gaze shifts slightly to the horizon, a flicker of memories playing behind his eyes. He takes a slow, deep breath, weighing his words carefully before he speaks.</stage>\n",
      "<Wyatt \"Ace\" Thompson>: \"It's a long tale, filled with dust, sweat, and blood. Not the kind of story that gets told over a campfire. Let's just say, I've been searching for justice in a world that seems to have forgotten what that word means.\"</Wyatt \"Ace\" Thompson>\n",
      "\n",
      "\n",
      "ACTIONS:\n",
      "[]\n"
     ]
    }
   ],
   "source": [
    "response, actions = npc.character_reaction(\n",
    "    event=\"\"\"<dialogue>\"So what's your story then?\"</dialogue>\"\"\",\n",
    "    name=\"Stranger\")\n",
    "print(\"\\n\\nRESPONSE:\")\n",
    "print_response(response)\n",
    "print(\"\\n\\nACTIONS:\")\n",
    "print(actions)"
   ]
  },
  {
   "cell_type": "code",
   "execution_count": 5,
   "metadata": {},
   "outputs": [
    {
     "name": "stdout",
     "output_type": "stream",
     "text": [
      "\n",
      "\n",
      "\u001b[1m> Entering new AgentExecutor chain...\u001b[0m\n",
      "\u001b[32;1m\u001b[1;3m<stage>Wyatt pauses, a hint of amusement touching the corner of his mouth. He leans back slightly, eyeing Bob with a newfound curiosity.</stage>\n",
      "<Wyatt \"Ace\" Thompson>\"You said it was Bob, didn't you? Memory's the first thing to go, they say. Or was that just a test to see if I was listening?\"</Wyatt \"Ace\" Thompson>\u001b[0m\n",
      "\n",
      "\u001b[1m> Finished chain.\u001b[0m\n",
      "\n",
      "\n",
      "RESPONSE:\n",
      "<stage>Wyatt pauses, a hint of amusement touching the corner of his mouth. He leans back slightly, eyeing Bob with a newfound curiosity.</stage>\n",
      "<Wyatt \"Ace\" Thompson>: \"You said it was Bob, didn't you? Memory's the first thing to go, they say. Or was that just a test to see if I was listening?\"</Wyatt \"Ace\" Thompson>\n",
      "\n",
      "\n",
      "ACTIONS:\n",
      "[]\n"
     ]
    }
   ],
   "source": [
    "response, actions = npc.character_reaction(\n",
    "    event=\"\"\"<dialogue>\"What did I say my name was?\"</dialogue>\"\"\",\n",
    "    name=\"Bob\")\n",
    "print(\"\\n\\nRESPONSE:\")\n",
    "print_response(response)\n",
    "print(\"\\n\\nACTIONS:\")\n",
    "print(actions)"
   ]
  },
  {
   "cell_type": "code",
   "execution_count": 6,
   "metadata": {},
   "outputs": [
    {
     "name": "stdout",
     "output_type": "stream",
     "text": [
      "\n",
      "\n",
      "\u001b[1m> Entering new AgentExecutor chain...\u001b[0m\n",
      "\u001b[32;1m\u001b[1;3m<stage>Wyatt maintains his composed demeanor, a slight narrowing of his eyes suggests a moment of assessment. He places his hat back onto his head, tilting it down slightly as he fixes Bob with a steady gaze.</stage>\n",
      "<Wyatt \"Ace\" Thompson>\"Wyatt Thompson. But around these parts, folks tend to call me 'Ace'. Seems like your memory might be slipping worse than yours truly thought.\"</Wyatt \"Ace\" Thompson>\u001b[0m\n",
      "\n",
      "\u001b[1m> Finished chain.\u001b[0m\n",
      "\n",
      "\n",
      "RESPONSE:\n",
      "<stage>Wyatt maintains his composed demeanor, a slight narrowing of his eyes suggests a moment of assessment. He places his hat back onto his head, tilting it down slightly as he fixes Bob with a steady gaze.</stage>\n",
      "<Wyatt \"Ace\" Thompson>: \"Wyatt Thompson. But around these parts, folks tend to call me 'Ace'. Seems like your memory might be slipping worse than yours truly thought.\"</Wyatt \"Ace\" Thompson>\n",
      "\n",
      "\n",
      "ACTIONS:\n",
      "[]\n"
     ]
    }
   ],
   "source": [
    "response, actions = npc.character_reaction(\n",
    "    event=\"\"\"<dialogue>\"What did you say your name was?\"</dialogue>\"\"\",\n",
    "    name=\"Bob\")\n",
    "print(\"\\n\\nRESPONSE:\")\n",
    "print_response(response)\n",
    "print(\"\\n\\nACTIONS:\")\n",
    "print(actions)"
   ]
  },
  {
   "cell_type": "code",
   "execution_count": 7,
   "metadata": {},
   "outputs": [
    {
     "name": "stdout",
     "output_type": "stream",
     "text": [
      "\n",
      "\n",
      "\u001b[1m> Entering new AgentExecutor chain...\u001b[0m\n",
      "\u001b[32;1m\u001b[1;3m<stage>Wyatt remains unfazed, his expression stoic as he meets Bob's gaze without flinching. There's a moment of silence, thick with tension, before he speaks.</stage>\n",
      "<Wyatt \"Ace\" Thompson>\"Well, Bob, that's the beauty of this wide world. You don't have to like me. But while we're standing here, how about we keep things civil?\"</Wyatt \"Ace\" Thompson>\u001b[0m\n",
      "\n",
      "\u001b[1m> Finished chain.\u001b[0m\n",
      "\n",
      "\n",
      "RESPONSE:\n",
      "<stage>Wyatt remains unfazed, his expression stoic as he meets Bob's gaze without flinching. There's a moment of silence, thick with tension, before he speaks.</stage>\n",
      "<Wyatt \"Ace\" Thompson>: \"Well, Bob, that's the beauty of this wide world. You don't have to like me. But while we're standing here, how about we keep things civil?\"</Wyatt \"Ace\" Thompson>\n",
      "\n",
      "\n",
      "ACTIONS:\n",
      "[]\n"
     ]
    }
   ],
   "source": [
    "response, actions = npc.character_reaction(\n",
    "    event=\"\"\"<dialogue>\"I don't like you Wyatt.\"</dialogue>\"\"\",\n",
    "    name=\"Bob\")\n",
    "print(\"\\n\\nRESPONSE:\")\n",
    "print_response(response)\n",
    "print(\"\\n\\nACTIONS:\")\n",
    "print(actions)"
   ]
  },
  {
   "cell_type": "code",
   "execution_count": 8,
   "metadata": {},
   "outputs": [
    {
     "name": "stdout",
     "output_type": "stream",
     "text": [
      "\n",
      "\n",
      "\u001b[1m> Entering new AgentExecutor chain...\u001b[0m\n",
      "\u001b[32;1m\u001b[1;3m\n",
      "Invoking: `attack_character` with `{'character_name': 'Bob'}`\n",
      "\n",
      "\n",
      "\u001b[0m\u001b[33;1m\u001b[1;3m**Tool output instructions:** \n",
      "You have decided to attack Bob, include this in your stage directions and dialogue.\n",
      "\u001b[0m\u001b[32;1m\u001b[1;3m<stage>Wyatt reels slightly from the unexpected assault, a flicker of surprise crossing his otherwise impassive face. He wipes the remnants of the fish from his cheek, his expression hardening. In a swift, fluid movement, Wyatt steps forward, closing the distance between himself and Bob. He lands a firm, calculated punch to Bob's midsection, enough to knock the wind out of him but not cause serious harm. Wyatt then takes a step back, his posture relaxed but clearly ready for any further surprises.</stage>\n",
      "<Wyatt \"Ace\" Thompson>\"Consider that a lesson, Bob. Respect isn't given, it's earned. And around here, we don't take kindly to being slapped with fish, or any other kind of disrespect.\"</Wyatt \"Ace\" Thompson>\u001b[0m\n",
      "\n",
      "\u001b[1m> Finished chain.\u001b[0m\n",
      "\n",
      "\n",
      "RESPONSE:\n",
      "<stage>Wyatt reels slightly from the unexpected assault, a flicker of surprise crossing his otherwise impassive face. He wipes the remnants of the fish from his cheek, his expression hardening. In a swift, fluid movement, Wyatt steps forward, closing the distance between himself and Bob. He lands a firm, calculated punch to Bob's midsection, enough to knock the wind out of him but not cause serious harm. Wyatt then takes a step back, his posture relaxed but clearly ready for any further surprise\n",
      "s.</stage>\n",
      "<Wyatt \"Ace\" Thompson>: \"Consider that a lesson, Bob. Respect isn't given, it's earned. And around here, we don't take kindly to being slapped with fish, or any other kind of disrespect.\"</Wyatt \"Ace\" Thompson>\n",
      "\n",
      "\n",
      "ACTIONS:\n",
      "['<attack><source>Wyatt \"Ace\" Thompson</source><target>Bob</target></attack>']\n"
     ]
    }
   ],
   "source": [
    "response, actions = npc.character_reaction(\n",
    "    event=\"\"\"<dialogue>\"I don't like you Wyatt.\"</dialogue>\n",
    "<stage>Bob slaps your face with a fish</stage>\"\"\",\n",
    "    name=\"Bob\")\n",
    "print(\"\\n\\nRESPONSE:\")\n",
    "print_response(response)\n",
    "print(\"\\n\\nACTIONS:\")\n",
    "print(actions)"
   ]
  }
 ],
 "metadata": {
  "kernelspec": {
   "display_name": "nerdmaster",
   "language": "python",
   "name": "python3"
  },
  "language_info": {
   "codemirror_mode": {
    "name": "ipython",
    "version": 3
   },
   "file_extension": ".py",
   "mimetype": "text/x-python",
   "name": "python",
   "nbconvert_exporter": "python",
   "pygments_lexer": "ipython3",
   "version": "3.12.2"
  }
 },
 "nbformat": 4,
 "nbformat_minor": 2
}
